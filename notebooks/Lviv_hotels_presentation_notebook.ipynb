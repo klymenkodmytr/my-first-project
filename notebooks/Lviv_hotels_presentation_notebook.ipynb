{
 "cells": [
  {
   "cell_type": "markdown",
   "id": "d0a1b784",
   "metadata": {},
   "source": [
    "# Комплексний аналіз готелів Львова\n",
    "\n",
    "**Jupyter Notebook для презентації проекту**  \n",
    "*Дата підготовки: 26.07.2025*\n",
    "\n",
    "---\n",
    "\n",
    "## Як користуватися цим ноутбуком\n",
    "\n",
    "1. Відкрийте цей файл у [Google Colab](https://colab.research.google.com) (рекомендовано) або Jupyter Notebook.\n",
    "2. Завантажте обидва CSV-файли (`lviv_hotels_data.csv`, `lviv_reviews_data.csv`) у те саме місце, де знаходиться ноутбук (або підгрузіть у Colab через меню).\n",
    "3. Натисніть \"Run all\" / \"Запустити все\" для швидкого перегляду результатів.\n",
    "4. Щоб зберегти презентацію у PDF: **File → Print → Save as PDF**.\n",
    "\n",
    "---\n",
    "\n",
    "## Зміст\n",
    "1. Огляд даних\n",
    "2. Статичні графіки (matplotlib)\n",
    "3. Інтерактивний графік (Plotly)\n",
    "4. Висновки та поради для презентації\n"
   ]
  },
  {
   "cell_type": "markdown",
   "id": "25176f56",
   "metadata": {},
   "source": [
    "## 1. Огляд даних"
   ]
  },
  {
   "cell_type": "code",
   "execution_count": null,
   "id": "efa85cfc",
   "metadata": {},
   "outputs": [],
   "source": [
    "\n",
    "import pandas as pd\n",
    "hotels = pd.read_csv('anaconda_projects_50d6bded-17c1-4d1a-9eea-aeb88799abb1_lviv_hotels_data.csv')\n",
    "reviews = pd.read_csv('anaconda_projects_50d6bded-17c1-4d1a-9eea-aeb88799abb1_lviv_reviews_data.csv')\n",
    "hotels.head()\n"
   ]
  },
  {
   "cell_type": "markdown",
   "id": "1192636c",
   "metadata": {},
   "source": [
    "**Опис основних показників (готелі):**"
   ]
  },
  {
   "cell_type": "code",
   "execution_count": null,
   "id": "ceb6c608",
   "metadata": {},
   "outputs": [],
   "source": [
    "hotels.describe()"
   ]
  },
  {
   "cell_type": "markdown",
   "id": "3313bd0c",
   "metadata": {},
   "source": [
    "**Огляд відгуків:**"
   ]
  },
  {
   "cell_type": "code",
   "execution_count": null,
   "id": "2a5db6be",
   "metadata": {},
   "outputs": [],
   "source": [
    "reviews.head()"
   ]
  },
  {
   "cell_type": "markdown",
   "id": "21889657",
   "metadata": {},
   "source": [
    "**Опис основних показників (відгуки):**"
   ]
  },
  {
   "cell_type": "code",
   "execution_count": null,
   "id": "41f5c8e6",
   "metadata": {},
   "outputs": [],
   "source": [
    "reviews.describe()"
   ]
  },
  {
   "cell_type": "markdown",
   "id": "2d7e3bf9",
   "metadata": {},
   "source": [
    "## 2. Статичні графіки (matplotlib)"
   ]
  },
  {
   "cell_type": "code",
   "execution_count": null,
   "id": "c1d4db89",
   "metadata": {},
   "outputs": [],
   "source": [
    "\n",
    "import matplotlib.pyplot as plt\n",
    "import seaborn as sns\n",
    "\n",
    "plt.figure(figsize=(8,4))\n",
    "sns.histplot(hotels['rating'], bins=10, kde=True)\n",
    "plt.title('Розподіл рейтингів готелів')\n",
    "plt.xlabel('Рейтинг')\n",
    "plt.ylabel('Кількість')\n",
    "plt.show()\n"
   ]
  },
  {
   "cell_type": "code",
   "execution_count": null,
   "id": "8cef8629",
   "metadata": {},
   "outputs": [],
   "source": [
    "\n",
    "plt.figure(figsize=(8,4))\n",
    "sns.scatterplot(x='distance_km', y='price_uah', hue='stars', data=hotels, palette='viridis', s=80)\n",
    "plt.title('Ціна vs Відстань від центру (за категоріями зірок)')\n",
    "plt.xlabel('Відстань від центру, км')\n",
    "plt.ylabel('Ціна, грн')\n",
    "plt.show()\n"
   ]
  },
  {
   "cell_type": "code",
   "execution_count": null,
   "id": "d4065bdd",
   "metadata": {},
   "outputs": [],
   "source": [
    "\n",
    "top10 = hotels.nlargest(10, 'rating')\n",
    "plt.figure(figsize=(10,5))\n",
    "sns.barplot(y=top10['name'], x=top10['rating'], palette='crest')\n",
    "plt.title('ТОП-10 готелів за рейтингом')\n",
    "plt.xlabel('Рейтинг')\n",
    "plt.ylabel('Готель')\n",
    "plt.show()\n"
   ]
  },
  {
   "cell_type": "code",
   "execution_count": null,
   "id": "a834d4ee",
   "metadata": {},
   "outputs": [],
   "source": [
    "\n",
    "sentiment_counts = reviews['sentiment'].value_counts()\n",
    "plt.figure(figsize=(7,3))\n",
    "sns.barplot(x=sentiment_counts.index, y=sentiment_counts.values, palette='coolwarm')\n",
    "plt.title('Тональність відгуків')\n",
    "plt.xlabel('Тональність')\n",
    "plt.ylabel('Кількість')\n",
    "plt.show()\n"
   ]
  },
  {
   "cell_type": "markdown",
   "id": "8b71a4de",
   "metadata": {},
   "source": [
    "## 3. Інтерактивний графік (Plotly)"
   ]
  },
  {
   "cell_type": "code",
   "execution_count": null,
   "id": "ca135c96",
   "metadata": {},
   "outputs": [],
   "source": [
    "\n",
    "import plotly.express as px\n",
    "\n",
    "fig = px.scatter(hotels, x='distance_km', y='price_uah', color='stars',\n",
    "                 size='rating', hover_name='name', title='Ціна vs Відстань від центру (інтерактивно)',\n",
    "                 labels={'distance_km': 'Відстань від центру, км', 'price_uah': 'Ціна, грн', 'stars': 'Зірки'})\n",
    "fig.show()\n"
   ]
  },
  {
   "cell_type": "markdown",
   "id": "3d761bdf",
   "metadata": {},
   "source": [
    "\n",
    "> **Пояснення:** цей інтерактивний графік дозволяє навести курсор на кожен готель, бачити його параметри та фільтрувати за кількістю зірок.\n",
    "\n",
    "Якщо ви не бачите графік — переконайтеся, що запущено у Google Colab чи Jupyter Notebook.\n"
   ]
  },
  {
   "cell_type": "markdown",
   "id": "8a7973fd",
   "metadata": {},
   "source": [
    "\n",
    "## 4. Висновки та поради для презентації\n",
    "\n",
    "- Покажіть різницю між статичними та інтерактивними графіками.\n",
    "- Наочний аналіз даних працює краще за суху статистику!\n",
    "- Можна змінювати код або дані для демонстрації сценаріїв (наприклад, топ-5 найдорожчих або найдешевших готелів).\n",
    "- Збережіть результат у PDF для розсилки.\n",
    "\n",
    "---\n",
    "\n",
    "**Успіхів у презентації!**\n"
   ]
  }
 ],
 "metadata": {},
 "nbformat": 4,
 "nbformat_minor": 5
}
